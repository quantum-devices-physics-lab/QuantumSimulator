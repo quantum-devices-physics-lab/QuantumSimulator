{
 "cells": [
  {
   "cell_type": "markdown",
   "metadata": {},
   "source": [
    "# Case study"
   ]
  },
  {
   "cell_type": "markdown",
   "metadata": {},
   "source": [
    "## The Simulation script runs a specific case of simulation step by step."
   ]
  },
  {
   "cell_type": "code",
   "execution_count": 19,
   "metadata": {},
   "outputs": [],
   "source": [
    "from SimulationScript import *\n",
    "import matplotlib.pyplot as plt"
   ]
  },
  {
   "cell_type": "code",
   "execution_count": 10,
   "metadata": {},
   "outputs": [],
   "source": [
    "ρ=thermal_dm(20,utilities.n_thermal(.1e9,10e-3*sc.k/sc.h))"
   ]
  },
  {
   "cell_type": "code",
   "execution_count": 12,
   "metadata": {},
   "outputs": [
    {
     "data": {
      "image/png": "[encoded data removed]",
      "text/plain": [
       "<Figure size 576x432 with 1 Axes>"
      ]
     },
     "metadata": {
      "needs_background": "light"
     },
     "output_type": "display_data"
    }
   ],
   "source": [
    "plot_fock_distribution(ρ);"
   ]
  },
  {
   "cell_type": "code",
   "execution_count": 48,
   "metadata": {},
   "outputs": [
    {
     "data": {
      "text/plain": [
       "1.6235022376548895"
      ]
     },
     "execution_count": 48,
     "metadata": {},
     "output_type": "execute_result"
    }
   ],
   "source": [
    "calculate_n_th(10e-3,0.1)"
   ]
  },
  {
   "cell_type": "code",
   "execution_count": 49,
   "metadata": {},
   "outputs": [
    {
     "data": {
      "text/plain": [
       "1.6235022376548895"
      ]
     },
     "execution_count": 49,
     "metadata": {},
     "output_type": "execute_result"
    }
   ],
   "source": []
  },
  {
   "cell_type": "code",
   "execution_count": null,
   "metadata": {},
   "outputs": [],
   "source": [
    "# Qutip and MKL are not working well\n",
    "# https://github.com/qutip/qutip/issues/975\n",
    "import qutip.settings as qset\n",
    "qset.has_mkl = False"
   ]
  },
  {
   "cell_type": "markdown",
   "metadata": {},
   "source": [
    "We will simulate the steady state of a system composed by two coupled harmonic simulators. This is the Hamiltonian with the drive on cavity A and B:\n",
    "\n",
    "$$\\mathcal{H}=\\left(\\omega_a - \\omega_d^a\\right)\\hat{a}^\\dagger\\hat{a}+\\left(\\omega_b - \\omega_d^b\\right)\\hat{b}^\\dagger\\hat{b} + g\\left(\\hat{a}^\\dagger+\\hat{a}\\right)\\left(\\hat{b}^\\dagger+\\hat{b}\\right)+A_a\\left(\\hat{a}^\\dagger+\\hat{a}\\right)+A_b\\left(\\hat{b}^\\dagger+\\hat{b}\\right)$$"
   ]
  },
  {
   "cell_type": "code",
   "execution_count": null,
   "metadata": {},
   "outputs": [],
   "source": [
    "def our_hamiltonian(wa,wd_a,Aa,a,wb,wd_b,Ab,b,g):\n",
    "    return (wa-wd_a)*a.dag()*a\\\n",
    "           + (wb-wd_b)*b.dag()*b \\\n",
    "           + g*(a.dag()+a)*(b.dag()+b)\\\n",
    "           + Aa*(a.dag()+a)\\\n",
    "           + Ab*(b.dag()+b)"
   ]
  },
  {
   "cell_type": "markdown",
   "metadata": {},
   "source": [
    "The next step is to define the function that will do our simulation. It must receive three parameters: a sweep, a shared list, a string. The sweep is a list of dictionary, the shared list is used to save the data and the string is folder name to save the backup data (must be optional)."
   ]
  },
  {
   "cell_type": "code",
   "execution_count": null,
   "metadata": {},
   "outputs": [],
   "source": [
    "def our_execute(task):\n",
    "    print(task['name']+'id'+str(task['idx']))\n",
    "    rho = steadystate(task[\"H\"],task[\"c_ops\"])\n",
    "        \n",
    "    result = {}\n",
    "\n",
    "    result[\"task\"] = task\n",
    "    result[\"rho\"] = rho\n",
    "        \n",
    "    return result"
   ]
  },
  {
   "cell_type": "markdown",
   "metadata": {},
   "source": [
    "You may have noticed the different values stored in task. H is the Hamiltonian, c_ops is a list of collapse operators, name is the name of this sweep (we will sweep the value of drive wd_a to different values of g, then the name should be something like \"g0\" or \"g2\"), idx is an indice of the order of the task on sweep (this is important because we cannot control the order of parallel processing methods). Here is an function that create a task"
   ]
  },
  {
   "cell_type": "code",
   "execution_count": null,
   "metadata": {},
   "outputs": [],
   "source": [
    "def our_create_task(a,b,wa,wd_a,Aa,ka,wb,wd_b,Ab,kb,g,T,N,name,idx,initial_parameter, final_parameter,n_points):\n",
    "    \n",
    "    n_th_a = calculate_n_th(T,wa)\n",
    "    n_th_b = calculate_n_th(T,wb)\n",
    "\n",
    "    rate_relaxation_a = ka*(1+n_th_a)\n",
    "    rate_relaxation_b = kb*(1+n_th_b)\n",
    "\n",
    "    rate_excitation_a = ka*(n_th_a)\n",
    "    rate_excitation_b = kb*(n_th_b)\n",
    "    \n",
    "    c_ops = []\n",
    "\n",
    "    if rate_excitation_a > 0.0:\n",
    "        c_ops.append(np.sqrt(rate_excitation_a)*a.dag())\n",
    "\n",
    "    if rate_relaxation_a > 0.0:\n",
    "        c_ops.append(np.sqrt(rate_relaxation_a)*a)\n",
    "        \n",
    "    if rate_excitation_b > 0.0:\n",
    "        c_ops.append(np.sqrt(rate_excitation_b)*b.dag())\n",
    "\n",
    "    if rate_relaxation_b > 0.0:\n",
    "        c_ops.append(np.sqrt(rate_relaxation_b)*b)\n",
    "    \n",
    "    H = our_hamiltonian(wa,wd_a,Aa,a,wb,wd_b,Ab,b,g)\n",
    "    \n",
    "    task = {}\n",
    "    \n",
    "    task[\"n_points\"] = n_points;\n",
    "    task[\"initial_parameter\"] = initial_parameter;\n",
    "    task[\"final_parameter\"] = final_parameter;\n",
    "    task[\"idx\"] = idx;\n",
    "    task[\"name\"] = name;\n",
    "    \n",
    "    task[\"H\"] = H\n",
    "    task[\"N\"] = N\n",
    "    task[\"T\"] = T\n",
    "\n",
    "    task[\"a\"] = a\n",
    "    task[\"wa\"] = wa\n",
    "    task[\"wd_a\"] = wd_a\n",
    "    task[\"ka\"] = ka\n",
    "    task[\"Aa\"] = Aa\n",
    "\n",
    "    task[\"b\"] = b\n",
    "    task[\"wb\"] = wb\n",
    "    task[\"wd_b\"] = wd_b\n",
    "    task[\"kb\"] = kb\n",
    "    task[\"Ab\"] = Ab\n",
    "    \n",
    "    task[\"g\"] = g\n",
    "    \n",
    "    task[\"c_ops\"] = c_ops\n",
    "    \n",
    "    return task\n",
    "    \n",
    "    "
   ]
  },
  {
   "cell_type": "markdown",
   "metadata": {},
   "source": [
    "We store way more data than needed because it could be useful later in the analysis"
   ]
  },
  {
   "cell_type": "markdown",
   "metadata": {},
   "source": [
    "An sweep is a list of tasks where one parameter is varied in each task. Here is an example of sweep on the oscillator a drive frequency."
   ]
  },
  {
   "cell_type": "code",
   "execution_count": null,
   "metadata": {},
   "outputs": [],
   "source": [
    "def our_create_sweep_wd_a(a,b,wa,Aa,ka,wb,wd_b,Ab,kb,g,T,N,name,initial_wd_a, final_wd_a, n_points):\n",
    "    wd_as = np.linspace(initial_wd_a,final_wd_a,n_points)\n",
    "    sweep = []\n",
    "    for (idx,wd_a) in enumerate(wd_as):\n",
    "        task = our_create_task(a,b,wa,wd_a,Aa,ka,wb,wd_b,Ab,kb,g,T,N,name,idx,initial_wd_a, final_wd_a,n_points)\n",
    "        sweep.append(task)\n",
    "    return sweep"
   ]
  },
  {
   "cell_type": "markdown",
   "metadata": {},
   "source": [
    "The final step is to create an Experiment Class. Its instance will connect our simulation settings to the simulation function which delegates the multiples sweeps to different processes. The class must have the method process, and its parameters must be: self and list. The list is the same shared list passed to our_execute."
   ]
  },
  {
   "cell_type": "code",
   "execution_count": null,
   "metadata": {},
   "outputs": [],
   "source": [
    "class OurExperiment:\n",
    "    \n",
    "    def __init__(self,\n",
    "                 a,\n",
    "                 b,\n",
    "                 name=\"\",\n",
    "                 sweeps=[],\n",
    "                 sweep_name=\"\",\n",
    "                 number_of_sweeps=0,\n",
    "                 n_points=0,\n",
    "                 fock=0):\n",
    "        \n",
    "        self.a = a\n",
    "        self.b = b\n",
    "        self.name = name\n",
    "        self.sweeps = np.array(sweeps)\n",
    "        self.n_points = n_points\n",
    "        self.fock = fock\n",
    "        self.expect_a = {}\n",
    "        self.sweep_variable = {}\n",
    "        self.tasks = {}\n",
    "        self.number_of_sweeps = number_of_sweeps\n",
    "        self.sweep_name = sweep_name\n",
    "        \n",
    "        self.sweep_variable[self.sweep_name] = np.zeros(self.n_points,dtype=float)\n",
    "        \n",
    "        for i in range(0,self.number_of_sweeps):\n",
    "            self.tasks[self.sweep_name+str(i)] = np.zeros(self.n_points,dtype=dict)\n",
    "    \n",
    "    def process(self,l):\n",
    "        expect_a = {}\n",
    "        \n",
    "        for i in range(0,self.number_of_sweeps):\n",
    "            expect_a[self.sweep_name+str(i)] = np.zeros(self.n_points,dtype=complex)\n",
    "            \n",
    "        for result in l:\n",
    "            task = result[\"task\"]\n",
    "            self.tasks[task[\"name\"]][task[\"idx\"]] = task\n",
    "            expect_a[task[\"name\"]][task[\"idx\"]] = (result[\"rho\"]*task[\"a\"]).tr()\n",
    "        \n",
    "        pp = []\n",
    "        ea = []\n",
    "        v = []\n",
    "        for i in range(0,self.number_of_sweeps):\n",
    "            na = expect_a[self.sweep_name+str(i)]\n",
    "            task = self.tasks[self.sweep_name+str(i)][0]\n",
    "\n",
    "            ea = np.append(ea,na)\n",
    "            v = np.append(v,task[self.sweep_name])\n",
    "\n",
    "        self.expect_a[self.sweep_name]=np.reshape(ea,(self.number_of_sweeps,self.n_points))\n",
    "        self.sweep_variable[self.sweep_name]=v\n",
    "    \n",
    "    def save(self,filename):\n",
    "        file = open(filename,\"wb\")\n",
    "        pickle.dump(self,file)\n",
    "        file.close()\n",
    "        \n",
    "    def load(self,filename):\n",
    "        file = open(filename,\"rb\")\n",
    "        data = pickle.load(file)\n",
    "        file.close()\n",
    "        \n",
    "        self.a = data.a\n",
    "        self.b = data.b\n",
    "        self.name = data.name\n",
    "        self.n_points = data.n_points\n",
    "        self.fock = data.fock\n",
    "        self.expect_a = data.expect_a\n",
    "        self.sweep_variable = data.sweep_variable\n",
    "        self.number_of_sweeps = data.number_of_sweeps\n",
    "        self.sweep_name = data.sweep_name\n",
    "        self.tasks = data.tasks\n",
    "\n",
    "        \n",
    "        "
   ]
  },
  {
   "cell_type": "markdown",
   "metadata": {},
   "source": [
    "Everything is set to do our simulation. First we define our parameters"
   ]
  },
  {
   "cell_type": "code",
   "execution_count": null,
   "metadata": {},
   "outputs": [],
   "source": [
    "N = 2\n",
    "\n",
    "wa = 5.0 # the unit is GHz\n",
    "ka = 1.0e-4 # Q = 50k\n",
    "Aa = 5.0e-6\n",
    "\n",
    "wb = 5.1\n",
    "kb = 1.0e-4\n",
    "Ab = 5.0e-6\n",
    "wd_b = wb - 0.001\n",
    "\n",
    "T = 10e-3\n",
    "\n",
    "# The destruction operator\n",
    "a = tensor(destroy(N),qeye(N))\n",
    "b = tensor(qeye(N),destroy(N))\n",
    "\n"
   ]
  },
  {
   "cell_type": "code",
   "execution_count": null,
   "metadata": {},
   "outputs": [],
   "source": [
    "#sweep parameters\n",
    "initial_wd_a = wa - 500e-6\n",
    "final_wd_a = wa + 500e-6\n",
    "\n",
    "initial_g = 0\n",
    "final_g = 5.0e-4\n",
    "\n",
    "n_points = 5\n",
    "n_sweeps = 5\n",
    "\n",
    "gs = np.linspace(initial_g,final_g,n_sweeps)"
   ]
  },
  {
   "cell_type": "markdown",
   "metadata": {},
   "source": [
    "We create the tasks and sweeps"
   ]
  },
  {
   "cell_type": "code",
   "execution_count": 10,
   "metadata": {},
   "outputs": [],
   "source": [
    "sweeps = np.array([])\n",
    "for (idx,g) in enumerate(gs):\n",
    "    name = \"g{}\".format(idx)\n",
    "    sweeps = np.append(sweeps,our_create_sweep_wd_a(a,b,wa,Aa,ka,wb,wd_b,Ab,kb,g,T,N,name,initial_wd_a, final_wd_a, n_points))"
   ]
  },
  {
   "cell_type": "markdown",
   "metadata": {},
   "source": [
    "We create an instance of OurExperiment Class"
   ]
  },
  {
   "cell_type": "code",
   "execution_count": 11,
   "metadata": {},
   "outputs": [],
   "source": [
    "name = \"Our Experiment\"\n",
    "experiment = OurExperiment(a,b,name,sweeps,'g',n_sweeps,n_points,N)"
   ]
  },
  {
   "cell_type": "markdown",
   "metadata": {},
   "source": [
    "The simulation function will do the following command but each sweep in sent to a different process"
   ]
  },
  {
   "cell_type": "code",
   "execution_count": 33,
   "metadata": {},
   "outputs": [
    {
     "name": "stdout",
     "output_type": "stream",
     "text": [
      "g0id0\n",
      "g0id1\n",
      "g0id2\n",
      "g0id3\n",
      "g0id4\n",
      "g1id0\n",
      "g1id1\n",
      "g1id2\n",
      "g1id3\n",
      "g1id4\n",
      "g2id0\n",
      "g2id1\n",
      "g2id2\n",
      "g2id3\n",
      "g2id4\n",
      "g3id0\n",
      "g3id1\n",
      "g3id2\n",
      "g3id3\n",
      "g3id4\n",
      "g4id0\n",
      "g4id1\n",
      "g4id2\n",
      "g4id3\n",
      "g4id4\n"
     ]
    }
   ],
   "source": [
    "l = []\n",
    "for sweep in experiment.sweeps:\n",
    "    l.append(our_execute(sweep))"
   ]
  },
  {
   "cell_type": "code",
   "execution_count": 36,
   "metadata": {},
   "outputs": [],
   "source": [
    "experiment.process(l)\n",
    "experiment.save(\"example.data\")\n",
    "del experiment"
   ]
  },
  {
   "cell_type": "markdown",
   "metadata": {},
   "source": [
    "Graphics example"
   ]
  },
  {
   "cell_type": "code",
   "execution_count": 28,
   "metadata": {},
   "outputs": [
    {
     "ename": "NameError",
     "evalue": "name 'OurExperiment' is not defined",
     "output_type": "error",
     "traceback": [
      "\u001b[1;31m---------------------------------------------------------------------------\u001b[0m",
      "\u001b[1;31mNameError\u001b[0m                                 Traceback (most recent call last)",
      "\u001b[1;32m<ipython-input-28-90ab104901a0>\u001b[0m in \u001b[0;36m<module>\u001b[1;34m\u001b[0m\n\u001b[1;32m----> 1\u001b[1;33m \u001b[0mexperiment\u001b[0m \u001b[1;33m=\u001b[0m \u001b[0mOurExperiment\u001b[0m\u001b[1;33m(\u001b[0m\u001b[0ma\u001b[0m\u001b[1;33m,\u001b[0m\u001b[0mb\u001b[0m\u001b[1;33m)\u001b[0m\u001b[1;33m\u001b[0m\u001b[1;33m\u001b[0m\u001b[0m\n\u001b[0m\u001b[0;32m      2\u001b[0m \u001b[0mexperiment\u001b[0m\u001b[1;33m.\u001b[0m\u001b[0mload\u001b[0m\u001b[1;33m(\u001b[0m\u001b[1;34m'example.data'\u001b[0m\u001b[1;33m)\u001b[0m\u001b[1;33m\u001b[0m\u001b[1;33m\u001b[0m\u001b[0m\n",
      "\u001b[1;31mNameError\u001b[0m: name 'OurExperiment' is not defined"
     ]
    }
   ],
   "source": [
    "experiment = OurExperiment(a,b)\n",
    "experiment.load('example.data')"
   ]
  },
  {
   "cell_type": "code",
   "execution_count": 22,
   "metadata": {},
   "outputs": [
    {
     "ename": "KeyError",
     "evalue": "0",
     "output_type": "error",
     "traceback": [
      "\u001b[1;31m---------------------------------------------------------------------------\u001b[0m",
      "\u001b[1;31mKeyError\u001b[0m                                  Traceback (most recent call last)",
      "\u001b[1;32m<ipython-input-22-8a9154a51c8a>\u001b[0m in \u001b[0;36m<module>\u001b[1;34m\u001b[0m\n\u001b[1;32m----> 1\u001b[1;33m \u001b[0minitial_wd_a\u001b[0m \u001b[1;33m=\u001b[0m \u001b[0mexperiment\u001b[0m\u001b[1;33m.\u001b[0m\u001b[0mtasks\u001b[0m\u001b[1;33m[\u001b[0m\u001b[1;34m'ga0'\u001b[0m\u001b[1;33m]\u001b[0m\u001b[1;33m[\u001b[0m\u001b[1;36m0\u001b[0m\u001b[1;33m]\u001b[0m\u001b[1;33m[\u001b[0m\u001b[1;34m\"initial_parameter\"\u001b[0m\u001b[1;33m]\u001b[0m\u001b[1;33m\u001b[0m\u001b[1;33m\u001b[0m\u001b[0m\n\u001b[0m\u001b[0;32m      2\u001b[0m \u001b[0mfinal_wd_a\u001b[0m \u001b[1;33m=\u001b[0m \u001b[0mexperiment\u001b[0m\u001b[1;33m.\u001b[0m\u001b[0mtasks\u001b[0m\u001b[1;33m[\u001b[0m\u001b[1;34m'ga0'\u001b[0m\u001b[1;33m]\u001b[0m\u001b[1;33m[\u001b[0m\u001b[1;36m0\u001b[0m\u001b[1;33m]\u001b[0m\u001b[1;33m[\u001b[0m\u001b[1;34m\"final_parameter\"\u001b[0m\u001b[1;33m]\u001b[0m\u001b[1;33m\u001b[0m\u001b[1;33m\u001b[0m\u001b[0m\n\u001b[0;32m      3\u001b[0m \u001b[0mn_points\u001b[0m \u001b[1;33m=\u001b[0m \u001b[0mexperiment\u001b[0m\u001b[1;33m.\u001b[0m\u001b[0mtasks\u001b[0m\u001b[1;33m[\u001b[0m\u001b[1;34m'ga0'\u001b[0m\u001b[1;33m]\u001b[0m\u001b[1;33m[\u001b[0m\u001b[1;36m0\u001b[0m\u001b[1;33m]\u001b[0m\u001b[1;33m[\u001b[0m\u001b[1;34m\"n_points\"\u001b[0m\u001b[1;33m]\u001b[0m\u001b[1;33m\u001b[0m\u001b[1;33m\u001b[0m\u001b[0m\n",
      "\u001b[1;31mKeyError\u001b[0m: 0"
     ]
    }
   ],
   "source": [
    "initial_wd_a = experiment.tasks['ga0'][0][\"initial_parameter\"]\n",
    "final_wd_a = experiment.tasks['ga0'][0][\"final_parameter\"]\n",
    "n_points = experiment.tasks['ga0'][0][\"n_points\"]"
   ]
  },
  {
   "cell_type": "code",
   "execution_count": 39,
   "metadata": {},
   "outputs": [],
   "source": [
    "X = np.linspace(initial_wd_a,final_wd_a,n_points)\n",
    "Y = experiment.sweep_variable['g']\n",
    "C = np.abs(experiment.expect_a['g'])"
   ]
  },
  {
   "cell_type": "code",
   "execution_count": 40,
   "metadata": {},
   "outputs": [
    {
     "data": {
      "image/png": "[encoded data removed]",
      "text/plain": [
       "<Figure size 432x288 with 1 Axes>"
      ]
     },
     "metadata": {
      "needs_background": "light"
     },
     "output_type": "display_data"
    }
   ],
   "source": [
    "plt.pcolor(X,Y,C)\n",
    "plt.show()"
   ]
  },
  {
   "cell_type": "code",
   "execution_count": 50,
   "metadata": {},
   "outputs": [
    {
     "name": "stdout",
     "output_type": "stream",
     "text": [
      " O volume na unidade C ‚ OS\n",
      " O N£mero de S‚rie do Volume ‚ 6E21-FA1E\n",
      "\n",
      " Pasta de C:\\Users\\lucam\\Documents\\Mestrado\\QuantumSimulator\n",
      "\n",
      "26/06/2020  19:34    <DIR>          .\n",
      "26/06/2020  19:34    <DIR>          ..\n",
      "26/06/2020  18:21                52 .gitignore\n",
      "26/06/2020  17:25    <DIR>          .ipynb_checkpoints\n",
      "26/06/2020  17:06            12.071 2020_06_26_17_06_55_2_Cavities_1_Resonator_Drive_Simulation_N3_ga_and_Ab_V2.log\n",
      "26/06/2020  17:07             1.991 2020_06_26_17_07_46_2_Cavities_1_Resonator_Drive_Simulation_N3_ga_and_Ab_V2.log\n",
      "26/06/2020  17:12             1.991 2020_06_26_17_12_26_2_Cavities_1_Resonator_Drive_Simulation_N3_ga_and_Ab_V2.log\n",
      "26/06/2020  17:16            78.528 2020_06_26_17_16_14_2_Cavities_1_Resonator_Drive_Simulation_N3_ga_and_Ab_V2.data\n",
      "26/06/2020  17:16             2.026 2020_06_26_17_16_14_2_Cavities_1_Resonator_Drive_Simulation_N3_ga_and_Ab_V2.log\n",
      "26/06/2020  17:16                 0 2020_06_26_17_16_50_2_Cavities_1_Resonator_Drive_Simulation_N3_ga_and_Ab_V2.log\n",
      "26/06/2020  17:17               111 2020_06_26_17_17_04_2_Cavities_1_Resonator_Drive_Simulation_N3_ga_and_Ab_V2.log\n",
      "26/06/2020  17:17             1.436 2020_06_26_17_17_16_2_Cavities_1_Resonator_Drive_Simulation_N3_ga_and_Ab_V2.log\n",
      "26/06/2020  17:19             1.436 2020_06_26_17_19_12_2_Cavities_1_Resonator_Drive_Simulation_N3_ga_and_Ab_V2.log\n",
      "26/06/2020  17:20           243.960 2020_06_26_17_19_56_2_Cavities_1_Resonator_Drive_Simulation_N3_ga_and_Ab_V2.data\n",
      "26/06/2020  17:20             2.026 2020_06_26_17_19_56_2_Cavities_1_Resonator_Drive_Simulation_N3_ga_and_Ab_V2.log\n",
      "26/06/2020  17:36       152.263.473 2020_06_26_17_28_13_2_Cavities_1_Resonator_Drive_Simulation_N3_ga_and_Ab_V2.data\n",
      "26/06/2020  17:36             2.026 2020_06_26_17_28_13_2_Cavities_1_Resonator_Drive_Simulation_N3_ga_and_Ab_V2.log\n",
      "26/06/2020  18:10             2.003 2020_06_26_18_10_08_2_Cavities_1_Resonator_Drive_Simulation_N3_ga_and_Ab_V2.log\n",
      "26/06/2020  18:10               111 2020_06_26_18_10_50_2_Cavities_1_Resonator_Drive_Simulation_N3_ga_and_Ab_V2.log\n",
      "26/06/2020  18:11               111 2020_06_26_18_11_14_2_Cavities_1_Resonator_Drive_Simulation_N3_ga_and_Ab_V2.log\n",
      "26/06/2020  18:17             2.500 2020_06_26_18_17_07_2_Cavities_1_Resonator_Drive_Simulation_N3_ga_and_Ab_V2.log\n",
      "26/06/2020  18:18             1.436 2020_06_26_18_18_15_2_Cavities_1_Resonator_Drive_Simulation_N3_ga_and_Ab_V2.log\n",
      "26/06/2020  16:56           137.403 example.data\n",
      "09/12/2019  16:39             1.115 LICENSE\n",
      "26/06/2020  19:34            12.710 NewSimulationScript.py\n",
      "09/12/2019  16:39                59 README.md\n",
      "26/06/2020  18:30            52.224 SimulationExample.ipynb\n",
      "26/06/2020  16:56             9.043 SimulationExample.py\n",
      "26/06/2020  15:10             8.217 SimulationExample.py~\n",
      "26/06/2020  18:21            29.742 SimulationScript.py\n",
      "26/06/2020  19:34           112.444 test.data\n",
      "17/06/2020  16:29    <DIR>          __pycache__\n",
      "              28 arquivo(s)    152.980.245 bytes\n",
      "               4 pasta(s)   44.297.076.736 bytes dispon¡veis\n"
     ]
    }
   ],
   "source": [
    "!dir"
   ]
  },
  {
   "cell_type": "code",
   "execution_count": null,
   "metadata": {},
   "outputs": [],
   "source": [
    "from NewSimulationScript import * \n",
    "import matplotlib.pyplot as plt"
   ]
  },
  {
   "cell_type": "code",
   "execution_count": 2,
   "metadata": {},
   "outputs": [],
   "source": [
    "experiment = Experiment()\n",
    "experiment.load('test.data')\n"
   ]
  },
  {
   "cell_type": "code",
   "execution_count": 55,
   "metadata": {},
   "outputs": [],
   "source": [
    "X = experiment.sweep_range\n",
    "Y = experiment.sweep_variable\n",
    "C = np.abs(experiment.expect_na)"
   ]
  },
  {
   "cell_type": "code",
   "execution_count": 56,
   "metadata": {},
   "outputs": [
    {
     "data": {
      "image/png": "[encoded data removed]",
      "text/plain": [
       "<Figure size 432x288 with 1 Axes>"
      ]
     },
     "metadata": {
      "needs_background": "light"
     },
     "output_type": "display_data"
    }
   ],
   "source": [
    "plt.pcolor(X,Y,C)\n",
    "plt.show()"
   ]
  },
  {
   "cell_type": "code",
   "execution_count": 57,
   "metadata": {},
   "outputs": [
    {
     "data": {
      "image/png": "[encoded data removed]",
      "text/plain": [
       "<Figure size 432x288 with 1 Axes>"
      ]
     },
     "metadata": {
      "needs_background": "light"
     },
     "output_type": "display_data"
    }
   ],
   "source": [
    "for i in range(0,10):\n",
    "    plt.plot(X,C[i])"
   ]
  },
  {
   "cell_type": "code",
   "execution_count": null,
   "metadata": {},
   "outputs": [],
   "source": []
  },
  {
   "cell_type": "code",
   "execution_count": null,
   "metadata": {},
   "outputs": [],
   "source": []
  }
 ],
 "metadata": {
  "kernelspec": {
   "display_name": "Python 3",
   "language": "python",
   "name": "python3"
  },
  "language_info": {
   "codemirror_mode": {
    "name": "ipython",
    "version": 3
   },
   "file_extension": ".py",
   "mimetype": "text/x-python",
   "name": "python",
   "nbconvert_exporter": "python",
   "pygments_lexer": "ipython3",
   "version": "3.6.9"
  }
 },
 "nbformat": 4,
 "nbformat_minor": 4
}

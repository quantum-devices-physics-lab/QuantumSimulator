{
 "cells": [
  {
   "cell_type": "markdown",
   "metadata": {},
   "source": [
    "# Case study"
   ]
  },
  {
   "cell_type": "markdown",
   "metadata": {},
   "source": [
    "## The Simulation script runs a specific case of simulation. Here we shows another example of use step by step."
   ]
  },
  {
   "cell_type": "code",
   "execution_count": 2,
   "metadata": {},
   "outputs": [],
   "source": [
    "from SimulationScript import *\n",
    "import matplotlib.pyplot as plt"
   ]
  },
  {
   "cell_type": "code",
   "execution_count": 3,
   "metadata": {},
   "outputs": [],
   "source": [
    "# Qutip and MKL are not working well\n",
    "# https://github.com/qutip/qutip/issues/975\n",
    "import qutip.settings as qset\n",
    "qset.has_mkl = False"
   ]
  },
  {
   "cell_type": "markdown",
   "metadata": {},
   "source": [
    "Here we will simulate the steady state of system composed by two coupled harmonic simulators. This is the Hamiltonian with the drive on cavity A and B:\n",
    "\n",
    "$$\\mathcal{H}=\\left(\\omega_a - \\omega_d^a\\right)\\hat{a}^\\dagger\\hat{a}+\\left(\\omega_b - \\omega_d^b\\right)\\hat{b}^\\dagger\\hat{b} + g\\left(\\hat{a}^\\dagger+\\hat{a}\\right)\\left(\\hat{b}^\\dagger+\\hat{b}\\right)+A_a\\left(\\hat{a}^\\dagger+\\hat{a}\\right)+A_b\\left(\\hat{b}^\\dagger+\\hat{b}\\right)$$"
   ]
  },
  {
   "cell_type": "code",
   "execution_count": 4,
   "metadata": {},
   "outputs": [],
   "source": [
    "def our_hamiltonian(wa,wd_a,Aa,a,wb,wd_b,Ab,b,g):\n",
    "    return (wa-wd_a)*a.dag()*a\\\n",
    "           + (wb-wd_b)*b.dag()*b \\\n",
    "           + g*(a.dag()+a)*(b.dag()+b)\\\n",
    "           + Aa*(a.dag()+a)\\\n",
    "           + Ab*(b.dag()+b)"
   ]
  },
  {
   "cell_type": "markdown",
   "metadata": {},
   "source": [
    "The next step is to define the function that will do your simulation. It should receive three parameters: a sweep, a shared list, a string. The sweep is a list of dictionary, the shared list is used to save the data and the string is folder name to save the backup data (may be optional)."
   ]
  },
  {
   "cell_type": "code",
   "execution_count": 5,
   "metadata": {},
   "outputs": [],
   "source": [
    "def our_execute(sweep,l,dirName=\"\"):\n",
    "    for task in sweep:\n",
    "              \n",
    "        rho = steadystate(task[\"H\"],task[\"c_ops\"])\n",
    "        \n",
    "        result = {}\n",
    "        \n",
    "        result[\"task\"] = task\n",
    "        result[\"rho\"] = rho\n",
    "        \n",
    "        l.append(result)\n",
    "        \n",
    "        if dirName != \"\":\n",
    "            filename = dirName+\"/{}_{}\".format(task['name'],task['idx'])\n",
    "            file = open(filename,\"wb\")\n",
    "            pickle.dump(rho,file)\n",
    "            file.close()"
   ]
  },
  {
   "cell_type": "markdown",
   "metadata": {},
   "source": [
    "You must have noticed the different values stored in task. H is the Hamiltonian, c_ops is a list of collapse operators, name is the name of this sweep (we will sweep the value of drive wd_a to different values of g, then the name should be something like \"g0\" or \"g2\"), idx is an indice of the order of the task on sweep (this is important because we cannot control the order of parallel processing methods). Here is an function that create a task"
   ]
  },
  {
   "cell_type": "code",
   "execution_count": 6,
   "metadata": {},
   "outputs": [],
   "source": [
    "def our_create_task(a,b,wa,wd_a,Aa,ka,wb,wd_b,Ab,kb,g,T,N,name,idx,initial_parameter, final_parameter,n_points):\n",
    "    \n",
    "    n_th_a = calculate_n_th(T,wa)\n",
    "    n_th_b = calculate_n_th(T,wb)\n",
    "\n",
    "    rate_relaxation_a = ka*(1+n_th_a)\n",
    "    rate_relaxation_b = kb*(1+n_th_b)\n",
    "\n",
    "    rate_excitation_a = ka*(n_th_a)\n",
    "    rate_excitation_b = kb*(n_th_b)\n",
    "    \n",
    "    c_ops = []\n",
    "\n",
    "    if rate_excitation_a > 0.0:\n",
    "        c_ops.append(np.sqrt(rate_excitation_a)*a.dag())\n",
    "\n",
    "    if rate_relaxation_a > 0.0:\n",
    "        c_ops.append(np.sqrt(rate_relaxation_a)*a)\n",
    "        \n",
    "    if rate_excitation_b > 0.0:\n",
    "        c_ops.append(np.sqrt(rate_excitation_b)*b.dag())\n",
    "\n",
    "    if rate_relaxation_b > 0.0:\n",
    "        c_ops.append(np.sqrt(rate_relaxation_b)*b)\n",
    "    \n",
    "    H = our_hamiltonian(wa,wd_a,Aa,a,wb,wd_b,Ab,b,g)\n",
    "    \n",
    "    task = {}\n",
    "    \n",
    "    task[\"n_points\"] = n_points;\n",
    "    task[\"initial_parameter\"] = initial_parameter;\n",
    "    task[\"final_parameter\"] = final_parameter;\n",
    "    task[\"idx\"] = idx;\n",
    "    task[\"name\"] = name;\n",
    "    \n",
    "    task[\"H\"] = H\n",
    "    task[\"N\"] = N\n",
    "    task[\"T\"] = T\n",
    "\n",
    "    task[\"a\"] = a\n",
    "    task[\"wa\"] = wa\n",
    "    task[\"wd_a\"] = wd_a\n",
    "    task[\"ka\"] = ka\n",
    "    task[\"Aa\"] = Aa\n",
    "\n",
    "    task[\"b\"] = b\n",
    "    task[\"wb\"] = wb\n",
    "    task[\"wd_b\"] = wd_b\n",
    "    task[\"kb\"] = kb\n",
    "    task[\"Ab\"] = Ab\n",
    "    \n",
    "    task[\"g\"] = g\n",
    "    \n",
    "    task[\"c_ops\"] = c_ops\n",
    "    \n",
    "    return task\n",
    "    \n",
    "    "
   ]
  },
  {
   "cell_type": "markdown",
   "metadata": {},
   "source": [
    "We store way more data than needed because it could be useful later in the analysis"
   ]
  },
  {
   "cell_type": "markdown",
   "metadata": {},
   "source": [
    "An sweep is a list of tasks where one parameter is varied in each task. Here is an example of sweep on the oscillator a drive frequency."
   ]
  },
  {
   "cell_type": "code",
   "execution_count": 7,
   "metadata": {},
   "outputs": [],
   "source": [
    "def our_create_sweep_wd_a(a,b,wa,Aa,ka,wb,wd_b,Ab,kb,g,T,N,name,initial_wd_a, final_wd_a, n_points):\n",
    "    wd_as = np.linspace(initial_wd_a,final_wd_a,n_points)\n",
    "    sweep = []\n",
    "    for (idx,wd_a) in enumerate(wd_as):\n",
    "        task = our_create_task(a,b,wa,wd_a,Aa,ka,wb,wd_b,Ab,kb,g,T,N,name,idx,initial_wd_a, final_wd_a,n_points)\n",
    "        sweep.append(task)\n",
    "    return sweep"
   ]
  },
  {
   "cell_type": "markdown",
   "metadata": {},
   "source": [
    "The final step is to create an Experiment Class. Its instance will connect our simulation settings to the simulation function which delegates the multiples sweeps to different processes. The class must have the method process, and its parameters must be: self and list. The list is the same shared list passed to our_execute."
   ]
  },
  {
   "cell_type": "code",
   "execution_count": 8,
   "metadata": {},
   "outputs": [],
   "source": [
    "class OurExperiment:\n",
    "    \n",
    "    def __init__(self,\n",
    "                 a,\n",
    "                 b,\n",
    "                 name=\"\",\n",
    "                 sweeps=[],\n",
    "                 sweep_name=\"\",\n",
    "                 number_of_sweeps=0,\n",
    "                 n_points=0,\n",
    "                 fock=0):\n",
    "        \n",
    "        self.a = a\n",
    "        self.b = b\n",
    "        self.name = name\n",
    "        self.sweeps = np.array(sweeps)\n",
    "        self.n_points = n_points\n",
    "        self.fock = fock\n",
    "        self.expect_a = {}\n",
    "        self.sweep_variable = {}\n",
    "        self.tasks = {}\n",
    "        self.number_of_sweeps = number_of_sweeps\n",
    "        self.sweep_name = sweep_name\n",
    "        \n",
    "        self.sweep_variable[self.sweep_name] = np.zeros(self.n_points,dtype=float)\n",
    "        \n",
    "        for i in range(0,self.number_of_sweeps):\n",
    "            self.tasks[self.sweep_name+str(i)] = np.zeros(self.n_points,dtype=dict)\n",
    "    \n",
    "    def process(self,l):\n",
    "        expect_a = {}\n",
    "        \n",
    "        for i in range(0,self.number_of_sweeps):\n",
    "            expect_a[self.sweep_name+str(i)] = np.zeros(self.n_points,dtype=complex)\n",
    "            \n",
    "        for result in l:\n",
    "            task = result[\"task\"]\n",
    "            self.tasks[task[\"name\"]][task[\"idx\"]] = task\n",
    "            expect_a[task[\"name\"]][task[\"idx\"]] = (result[\"rho\"]*task[\"a\"]).tr()\n",
    "        \n",
    "        pp = []\n",
    "        ea = []\n",
    "        v = []\n",
    "        for i in range(0,self.number_of_sweeps):\n",
    "            na = expect_a[self.sweep_name+str(i)]\n",
    "            task = self.tasks[self.sweep_name+str(i)][0]\n",
    "\n",
    "            ea = np.append(ea,na)\n",
    "            v = np.append(v,task[self.sweep_name])\n",
    "\n",
    "        self.expect_a[self.sweep_name]=np.reshape(ea,(self.number_of_sweeps,self.n_points))\n",
    "        self.sweep_variable[self.sweep_name]=v\n",
    "    \n",
    "    def save(self,filename):\n",
    "        file = open(filename,\"wb\")\n",
    "        pickle.dump(self,file)\n",
    "        file.close()\n",
    "        \n",
    "    def load(self,filename):\n",
    "        file = open(filename,\"rb\")\n",
    "        data = pickle.load(file)\n",
    "        file.close()\n",
    "        \n",
    "        self.a = data.a\n",
    "        self.b = data.b\n",
    "        self.name = data.name\n",
    "        self.n_points = data.n_points\n",
    "        self.fock = data.fock\n",
    "        self.expect_a = data.expect_a\n",
    "        self.sweep_variable = data.sweep_variable\n",
    "        self.number_of_sweeps = data.number_of_sweeps\n",
    "        self.sweep_name = data.sweep_name\n",
    "        self.tasks = data.tasks\n",
    "\n",
    "        \n",
    "        "
   ]
  },
  {
   "cell_type": "markdown",
   "metadata": {},
   "source": [
    "Everything is set to do our simulation. First we define our parameters"
   ]
  },
  {
   "cell_type": "code",
   "execution_count": 9,
   "metadata": {},
   "outputs": [],
   "source": [
    "N = 3\n",
    "\n",
    "wa = 5.0 # the unit is GHz\n",
    "ka = 1.0e-4 # Q = 50k\n",
    "Aa = 5.0e-6\n",
    "\n",
    "wb = 5.1\n",
    "kb = 1.0e-4\n",
    "Ab = 5.0e-6\n",
    "wd_b = wb - 0.001\n",
    "\n",
    "T = 10e-3\n",
    "\n",
    "# The destruction operator\n",
    "a = tensor(destroy(N),qeye(N))\n",
    "b = tensor(qeye(N),destroy(N))\n",
    "\n"
   ]
  },
  {
   "cell_type": "code",
   "execution_count": 61,
   "metadata": {},
   "outputs": [],
   "source": [
    "#sweep parameters\n",
    "initial_wd_a = wa - 500e-6\n",
    "final_wd_a = wa + 500e-6\n",
    "\n",
    "initial_g = 0\n",
    "final_g = 5.0e-4\n",
    "\n",
    "n_points = 100\n",
    "n_sweeps = 10\n",
    "\n",
    "gs = np.linspace(initial_g,final_g,n_sweeps)"
   ]
  },
  {
   "cell_type": "markdown",
   "metadata": {},
   "source": [
    "We create the tasks and sweeps"
   ]
  },
  {
   "cell_type": "code",
   "execution_count": 62,
   "metadata": {},
   "outputs": [],
   "source": [
    "sweeps = []\n",
    "for (idx,g) in enumerate(gs):\n",
    "    name = \"g{}\".format(idx)\n",
    "    sweeps.append(our_create_sweep_wd_a(a,b,wa,Aa,ka,wb,wd_b,Ab,kb,g,T,N,name,initial_wd_a, final_wd_a, n_points))"
   ]
  },
  {
   "cell_type": "markdown",
   "metadata": {},
   "source": [
    "We create an instance of OurExperiment Class"
   ]
  },
  {
   "cell_type": "code",
   "execution_count": 63,
   "metadata": {},
   "outputs": [],
   "source": [
    "name = \"Our Experiment\"\n",
    "experiment = OurExperiment(a,b,name,sweeps,'g',n_sweeps,n_points,N)"
   ]
  },
  {
   "cell_type": "markdown",
   "metadata": {},
   "source": [
    "The simulation function will do the following command but each sweep in sent to a different task"
   ]
  },
  {
   "cell_type": "code",
   "execution_count": 64,
   "metadata": {},
   "outputs": [],
   "source": [
    "l = []\n",
    "for sweep in experiment.sweeps:\n",
    "    our_execute(sweep,l)"
   ]
  },
  {
   "cell_type": "code",
   "execution_count": 65,
   "metadata": {},
   "outputs": [],
   "source": [
    "experiment.process(l)\n",
    "experiment.save(\"example.data\")\n",
    "del experiment"
   ]
  },
  {
   "cell_type": "markdown",
   "metadata": {},
   "source": [
    "Graphics example"
   ]
  },
  {
   "cell_type": "code",
   "execution_count": 66,
   "metadata": {},
   "outputs": [],
   "source": [
    "experiment = OurExperiment(a,b)\n",
    "experiment.load('example.data')"
   ]
  },
  {
   "cell_type": "code",
   "execution_count": 67,
   "metadata": {},
   "outputs": [],
   "source": [
    "initial_wd_a = experiment.tasks['g0'][0][\"initial_parameter\"]\n",
    "final_wd_a = experiment.tasks['g0'][0][\"final_parameter\"]\n",
    "n_points = experiment.tasks['g0'][0][\"n_points\"]"
   ]
  },
  {
   "cell_type": "code",
   "execution_count": 68,
   "metadata": {},
   "outputs": [],
   "source": [
    "X = np.linspace(initial_wd_a,final_wd_a,n_points)\n",
    "Y = experiment.sweep_variable['g']\n",
    "C = np.abs(experiment.expect_a['g'])"
   ]
  },
  {
   "cell_type": "code",
   "execution_count": 69,
   "metadata": {},
   "outputs": [
    {
     "data": {
      "image/png": "[encoded data removed]",
      "text/plain": [
       "<Figure size 432x288 with 1 Axes>"
      ]
     },
     "metadata": {
      "needs_background": "light"
     },
     "output_type": "display_data"
    }
   ],
   "source": [
    "plt.pcolor(X,Y,C)\n",
    "plt.show()"
   ]
  },
  {
   "cell_type": "code",
   "execution_count": null,
   "metadata": {},
   "outputs": [],
   "source": []
  }
 ],
 "metadata": {
  "kernelspec": {
   "display_name": "Python 3",
   "language": "python",
   "name": "python3"
  },
  "language_info": {
   "codemirror_mode": {
    "name": "ipython",
    "version": 3
   },
   "file_extension": ".py",
   "mimetype": "text/x-python",
   "name": "python",
   "nbconvert_exporter": "python",
   "pygments_lexer": "ipython3",
   "version": "3.6.9"
  }
 },
 "nbformat": 4,
 "nbformat_minor": 4
}
